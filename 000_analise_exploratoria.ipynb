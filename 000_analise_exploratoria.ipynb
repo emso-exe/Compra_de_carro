{
 "cells": [
  {
   "cell_type": "markdown",
   "id": "847a6cf8",
   "metadata": {},
   "source": [
    "# Análise exploratória dos dados\n",
    "_EDA - Exploratory Data Analysis_\n",
    "\n",
    "---\n",
    "\n",
    "## Sumário\n",
    "\n",
    "1. **Importação de bibliotecas**\n",
    "2. **Carregamento da base**\n",
    "3. **Análise do dataframe**\n",
    "   - 3.1. Volumetria\n",
    "   - 3.2. Tipagem, Nulos e Cardinalidade\n",
    "   - 3.3. Duplicidade\n",
    "   - 3.4. Medidas Estatísticas\n",
    "   - 3.5. Boxplot e Outliers das Variáveis Numéricas\n",
    "   - 3.6. Distribuição da Variável 'Car Purchase Amount'\n",
    "4. **Análise exploratória dos dados**\n",
    "   - 4.1. Qual a distribuição da idade dos clientes?\n",
    "   - 4.2. O gênero dos clientes está balanceado?\n",
    "   - 4.3. Há diferença de idade média entre gêneros?\n",
    "\n",
    "5. **Insights e recomendações**\n",
    "\n",
    "<br>\n",
    "\n",
    "---\n",
    "\n",
    "<br>"
   ]
  },
  {
   "cell_type": "markdown",
   "id": "e91a1a3e",
   "metadata": {},
   "source": [
    "## 1. Importação de bibliotecas"
   ]
  },
  {
   "cell_type": "code",
   "execution_count": 50,
   "id": "86476ea0",
   "metadata": {},
   "outputs": [],
   "source": [
    "# Importação de pacotes e definição de parâmetros globais\n",
    "\n",
    "import pandas as pd\n",
    "import matplotlib.pyplot as plt\n",
    "import matplotlib.ticker as mticker\n",
    "import seaborn as sns\n",
    "import textwrap\n",
    "import warnings\n",
    "import gc\n",
    "\n",
    "from scipy import stats"
   ]
  },
  {
   "cell_type": "code",
   "execution_count": 25,
   "id": "11d8ce60",
   "metadata": {},
   "outputs": [],
   "source": [
    "# Configurações para exibição de dados no Jupyter Notebook\n",
    "\n",
    "# Configurar opção para exibir todas as linhas do Dataframe\n",
    "pd.set_option('display.max_rows', None)\n",
    "\n",
    "# Configurar para exibir o conteúdo completo das colunas\n",
    "pd.set_option('display.max_colwidth', None)\n",
    "\n",
    "# Configurar a supressão de mensagens de aviso durante a execução\n",
    "warnings.filterwarnings('ignore')\n",
    "\n",
    "# Configurar estilo dos gráficos do seaborn\n",
    "sns.set_style('whitegrid')"
   ]
  },
  {
   "cell_type": "markdown",
   "id": "ec894856",
   "metadata": {},
   "source": [
    "## 2. Carregamento da base"
   ]
  },
  {
   "cell_type": "code",
   "execution_count": 26,
   "id": "e51c9ae6",
   "metadata": {},
   "outputs": [
    {
     "name": "stdout",
     "output_type": "stream",
     "text": [
      "\n",
      "Quantidade de objetos removidos da memória: 1655\n"
     ]
    }
   ],
   "source": [
    "# Efetuando a limpeza da memória antes do carregamento dos dados\n",
    "print(f'\\nQuantidade de objetos removidos da memória: {gc.collect()}')"
   ]
  },
  {
   "cell_type": "code",
   "execution_count": 27,
   "id": "06930952",
   "metadata": {},
   "outputs": [
    {
     "data": {
      "text/html": [
       "<div>\n",
       "<style scoped>\n",
       "    .dataframe tbody tr th:only-of-type {\n",
       "        vertical-align: middle;\n",
       "    }\n",
       "\n",
       "    .dataframe tbody tr th {\n",
       "        vertical-align: top;\n",
       "    }\n",
       "\n",
       "    .dataframe thead th {\n",
       "        text-align: right;\n",
       "    }\n",
       "</style>\n",
       "<table border=\"1\" class=\"dataframe\">\n",
       "  <thead>\n",
       "    <tr style=\"text-align: right;\">\n",
       "      <th></th>\n",
       "      <th>Customer Name</th>\n",
       "      <th>Customer e-mail</th>\n",
       "      <th>Country</th>\n",
       "      <th>Gender</th>\n",
       "      <th>Age</th>\n",
       "      <th>Annual Salary</th>\n",
       "      <th>Credit Card Debt</th>\n",
       "      <th>Net Worth</th>\n",
       "      <th>Car Purchase Amount</th>\n",
       "    </tr>\n",
       "  </thead>\n",
       "  <tbody>\n",
       "    <tr>\n",
       "      <th>0</th>\n",
       "      <td>Martina Avila</td>\n",
       "      <td>cubilia.Curae.Phasellus@quisaccumsanconvallis.edu</td>\n",
       "      <td>USA</td>\n",
       "      <td>0</td>\n",
       "      <td>42</td>\n",
       "      <td>62812.09301</td>\n",
       "      <td>11609.380910</td>\n",
       "      <td>238961.2505</td>\n",
       "      <td>35321.45877</td>\n",
       "    </tr>\n",
       "    <tr>\n",
       "      <th>1</th>\n",
       "      <td>Harlan Barnes</td>\n",
       "      <td>eu.dolor@diam.co.uk</td>\n",
       "      <td>USA</td>\n",
       "      <td>0</td>\n",
       "      <td>41</td>\n",
       "      <td>66646.89292</td>\n",
       "      <td>9572.957136</td>\n",
       "      <td>530973.9078</td>\n",
       "      <td>45115.52566</td>\n",
       "    </tr>\n",
       "    <tr>\n",
       "      <th>2</th>\n",
       "      <td>Naomi Rodriquez</td>\n",
       "      <td>vulputate.mauris.sagittis@ametconsectetueradipiscing.co.uk</td>\n",
       "      <td>USA</td>\n",
       "      <td>1</td>\n",
       "      <td>43</td>\n",
       "      <td>53798.55112</td>\n",
       "      <td>11160.355060</td>\n",
       "      <td>638467.1773</td>\n",
       "      <td>42925.70921</td>\n",
       "    </tr>\n",
       "    <tr>\n",
       "      <th>3</th>\n",
       "      <td>Jade Cunningham</td>\n",
       "      <td>malesuada@dignissim.com</td>\n",
       "      <td>USA</td>\n",
       "      <td>1</td>\n",
       "      <td>58</td>\n",
       "      <td>79370.03798</td>\n",
       "      <td>14426.164850</td>\n",
       "      <td>548599.0524</td>\n",
       "      <td>67422.36313</td>\n",
       "    </tr>\n",
       "    <tr>\n",
       "      <th>4</th>\n",
       "      <td>Cedric Leach</td>\n",
       "      <td>felis.ullamcorper.viverra@egetmollislectus.net</td>\n",
       "      <td>USA</td>\n",
       "      <td>1</td>\n",
       "      <td>57</td>\n",
       "      <td>59729.15130</td>\n",
       "      <td>5358.712177</td>\n",
       "      <td>560304.0671</td>\n",
       "      <td>55915.46248</td>\n",
       "    </tr>\n",
       "  </tbody>\n",
       "</table>\n",
       "</div>"
      ],
      "text/plain": [
       "     Customer Name  \\\n",
       "0    Martina Avila   \n",
       "1    Harlan Barnes   \n",
       "2  Naomi Rodriquez   \n",
       "3  Jade Cunningham   \n",
       "4     Cedric Leach   \n",
       "\n",
       "                                              Customer e-mail Country  Gender  \\\n",
       "0           cubilia.Curae.Phasellus@quisaccumsanconvallis.edu     USA       0   \n",
       "1                                         eu.dolor@diam.co.uk     USA       0   \n",
       "2  vulputate.mauris.sagittis@ametconsectetueradipiscing.co.uk     USA       1   \n",
       "3                                     malesuada@dignissim.com     USA       1   \n",
       "4              felis.ullamcorper.viverra@egetmollislectus.net     USA       1   \n",
       "\n",
       "   Age  Annual Salary  Credit Card Debt    Net Worth  Car Purchase Amount  \n",
       "0   42    62812.09301      11609.380910  238961.2505          35321.45877  \n",
       "1   41    66646.89292       9572.957136  530973.9078          45115.52566  \n",
       "2   43    53798.55112      11160.355060  638467.1773          42925.70921  \n",
       "3   58    79370.03798      14426.164850  548599.0524          67422.36313  \n",
       "4   57    59729.15130       5358.712177  560304.0671          55915.46248  "
      ]
     },
     "execution_count": 27,
     "metadata": {},
     "output_type": "execute_result"
    }
   ],
   "source": [
    "# Criando um dataframe a partir do aquivo .csv\n",
    "df = pd.read_csv('dados/Car_Purchasing_Data.csv', sep=',')\n",
    "df.head()"
   ]
  },
  {
   "cell_type": "markdown",
   "id": "9faa4d40",
   "metadata": {},
   "source": [
    "## 3. Análise do dataframe"
   ]
  },
  {
   "cell_type": "markdown",
   "id": "39b683e8",
   "metadata": {},
   "source": [
    "### 3.1. Volumetria"
   ]
  },
  {
   "cell_type": "code",
   "execution_count": 28,
   "id": "dd036c0c",
   "metadata": {},
   "outputs": [
    {
     "name": "stdout",
     "output_type": "stream",
     "text": [
      "Quantidade de linhas (registros):  500\n",
      "Quantidade de colunas (variáveis): 9\n"
     ]
    }
   ],
   "source": [
    "# Exibindo a quantidade de linhas e coluna do dataframe\n",
    "\n",
    "print(f'Quantidade de linhas (registros):  {df.shape[0]}')\n",
    "print(f'Quantidade de colunas (variáveis): {df.shape[1]}')    "
   ]
  },
  {
   "cell_type": "markdown",
   "id": "732bb686",
   "metadata": {},
   "source": [
    "### 3.2. Tipagem, Nulos e Cardinalidade"
   ]
  },
  {
   "cell_type": "code",
   "execution_count": 29,
   "id": "f206f755",
   "metadata": {},
   "outputs": [],
   "source": [
    "def gerar_metadados(dataframe):\n",
    "    '''\n",
    "    Gera um dataframe contendo metadados das colunas do dataframe fornecido.\n",
    "\n",
    "    :param dataframe: Dataframe\n",
    "        DataFrame para o qual os metadados serão gerados.\n",
    "    :return: DataFrame\n",
    "        DataFrame contendo os metadados.\n",
    "    '''\n",
    "    metadados = pd.DataFrame({\n",
    "        'Variável': dataframe.columns,\n",
    "        'Tipo': dataframe.dtypes,\n",
    "        'Qtde de nulos': dataframe.isnull().sum(),\n",
    "        '% de nulos': round((dataframe.isnull().sum()/len(dataframe))*100, 2),\n",
    "        'Cardinalidade': dataframe.nunique(),\n",
    "    })\n",
    "    metadados = metadados.sort_values(by='Qtde de nulos', ascending=False)\n",
    "    metadados = metadados.reset_index(drop=True)\n",
    "    return metadados"
   ]
  },
  {
   "cell_type": "code",
   "execution_count": 30,
   "id": "188c6f84",
   "metadata": {},
   "outputs": [
    {
     "data": {
      "text/html": [
       "<div>\n",
       "<style scoped>\n",
       "    .dataframe tbody tr th:only-of-type {\n",
       "        vertical-align: middle;\n",
       "    }\n",
       "\n",
       "    .dataframe tbody tr th {\n",
       "        vertical-align: top;\n",
       "    }\n",
       "\n",
       "    .dataframe thead th {\n",
       "        text-align: right;\n",
       "    }\n",
       "</style>\n",
       "<table border=\"1\" class=\"dataframe\">\n",
       "  <thead>\n",
       "    <tr style=\"text-align: right;\">\n",
       "      <th></th>\n",
       "      <th>Variável</th>\n",
       "      <th>Tipo</th>\n",
       "      <th>Qtde de nulos</th>\n",
       "      <th>% de nulos</th>\n",
       "      <th>Cardinalidade</th>\n",
       "    </tr>\n",
       "  </thead>\n",
       "  <tbody>\n",
       "    <tr>\n",
       "      <th>0</th>\n",
       "      <td>Customer Name</td>\n",
       "      <td>object</td>\n",
       "      <td>0</td>\n",
       "      <td>0.0</td>\n",
       "      <td>498</td>\n",
       "    </tr>\n",
       "    <tr>\n",
       "      <th>1</th>\n",
       "      <td>Customer e-mail</td>\n",
       "      <td>object</td>\n",
       "      <td>0</td>\n",
       "      <td>0.0</td>\n",
       "      <td>500</td>\n",
       "    </tr>\n",
       "    <tr>\n",
       "      <th>2</th>\n",
       "      <td>Country</td>\n",
       "      <td>object</td>\n",
       "      <td>0</td>\n",
       "      <td>0.0</td>\n",
       "      <td>1</td>\n",
       "    </tr>\n",
       "    <tr>\n",
       "      <th>3</th>\n",
       "      <td>Gender</td>\n",
       "      <td>int64</td>\n",
       "      <td>0</td>\n",
       "      <td>0.0</td>\n",
       "      <td>2</td>\n",
       "    </tr>\n",
       "    <tr>\n",
       "      <th>4</th>\n",
       "      <td>Age</td>\n",
       "      <td>int64</td>\n",
       "      <td>0</td>\n",
       "      <td>0.0</td>\n",
       "      <td>43</td>\n",
       "    </tr>\n",
       "    <tr>\n",
       "      <th>5</th>\n",
       "      <td>Annual Salary</td>\n",
       "      <td>float64</td>\n",
       "      <td>0</td>\n",
       "      <td>0.0</td>\n",
       "      <td>500</td>\n",
       "    </tr>\n",
       "    <tr>\n",
       "      <th>6</th>\n",
       "      <td>Credit Card Debt</td>\n",
       "      <td>float64</td>\n",
       "      <td>0</td>\n",
       "      <td>0.0</td>\n",
       "      <td>500</td>\n",
       "    </tr>\n",
       "    <tr>\n",
       "      <th>7</th>\n",
       "      <td>Net Worth</td>\n",
       "      <td>float64</td>\n",
       "      <td>0</td>\n",
       "      <td>0.0</td>\n",
       "      <td>500</td>\n",
       "    </tr>\n",
       "    <tr>\n",
       "      <th>8</th>\n",
       "      <td>Car Purchase Amount</td>\n",
       "      <td>float64</td>\n",
       "      <td>0</td>\n",
       "      <td>0.0</td>\n",
       "      <td>500</td>\n",
       "    </tr>\n",
       "  </tbody>\n",
       "</table>\n",
       "</div>"
      ],
      "text/plain": [
       "              Variável     Tipo  Qtde de nulos  % de nulos  Cardinalidade\n",
       "0        Customer Name   object              0         0.0            498\n",
       "1      Customer e-mail   object              0         0.0            500\n",
       "2              Country   object              0         0.0              1\n",
       "3               Gender    int64              0         0.0              2\n",
       "4                  Age    int64              0         0.0             43\n",
       "5        Annual Salary  float64              0         0.0            500\n",
       "6     Credit Card Debt  float64              0         0.0            500\n",
       "7            Net Worth  float64              0         0.0            500\n",
       "8  Car Purchase Amount  float64              0         0.0            500"
      ]
     },
     "execution_count": 30,
     "metadata": {},
     "output_type": "execute_result"
    }
   ],
   "source": [
    "# Exibindo os metadados do dataframe\n",
    "\n",
    "gerar_metadados(df)"
   ]
  },
  {
   "cell_type": "markdown",
   "id": "a601f351",
   "metadata": {},
   "source": [
    "### 3.3. Duplicidade"
   ]
  },
  {
   "cell_type": "code",
   "execution_count": 31,
   "id": "52bc354b",
   "metadata": {},
   "outputs": [
    {
     "name": "stdout",
     "output_type": "stream",
     "text": [
      "Registros únicos    500\n",
      "Name: count, dtype: int64\n"
     ]
    }
   ],
   "source": [
    "# Exibindo a quantidade de registros únicos e duplicados\n",
    "\n",
    "contagem_duplicatas = df.duplicated().value_counts().rename(\n",
    "    index={False: 'Registros únicos', True: 'Registros duplicados'})\n",
    "print(contagem_duplicatas)\n"
   ]
  },
  {
   "cell_type": "markdown",
   "id": "ca6da3ce",
   "metadata": {},
   "source": [
    "### 3.4. Medidas Estatísticas"
   ]
  },
  {
   "cell_type": "code",
   "execution_count": 32,
   "id": "c9aaebe2",
   "metadata": {},
   "outputs": [
    {
     "data": {
      "text/html": [
       "<div>\n",
       "<style scoped>\n",
       "    .dataframe tbody tr th:only-of-type {\n",
       "        vertical-align: middle;\n",
       "    }\n",
       "\n",
       "    .dataframe tbody tr th {\n",
       "        vertical-align: top;\n",
       "    }\n",
       "\n",
       "    .dataframe thead th {\n",
       "        text-align: right;\n",
       "    }\n",
       "</style>\n",
       "<table border=\"1\" class=\"dataframe\">\n",
       "  <thead>\n",
       "    <tr style=\"text-align: right;\">\n",
       "      <th></th>\n",
       "      <th>count</th>\n",
       "      <th>mean</th>\n",
       "      <th>std</th>\n",
       "      <th>min</th>\n",
       "      <th>25%</th>\n",
       "      <th>50%</th>\n",
       "      <th>75%</th>\n",
       "      <th>max</th>\n",
       "    </tr>\n",
       "  </thead>\n",
       "  <tbody>\n",
       "    <tr>\n",
       "      <th>Gender</th>\n",
       "      <td>500.0</td>\n",
       "      <td>0.506000</td>\n",
       "      <td>0.500465</td>\n",
       "      <td>0.0</td>\n",
       "      <td>0.000000</td>\n",
       "      <td>1.000000</td>\n",
       "      <td>1.000000</td>\n",
       "      <td>1.0</td>\n",
       "    </tr>\n",
       "    <tr>\n",
       "      <th>Age</th>\n",
       "      <td>500.0</td>\n",
       "      <td>46.224000</td>\n",
       "      <td>7.990339</td>\n",
       "      <td>20.0</td>\n",
       "      <td>41.000000</td>\n",
       "      <td>46.000000</td>\n",
       "      <td>52.000000</td>\n",
       "      <td>70.0</td>\n",
       "    </tr>\n",
       "    <tr>\n",
       "      <th>Annual Salary</th>\n",
       "      <td>500.0</td>\n",
       "      <td>62127.239608</td>\n",
       "      <td>11703.378228</td>\n",
       "      <td>20000.0</td>\n",
       "      <td>54391.977195</td>\n",
       "      <td>62915.497035</td>\n",
       "      <td>70117.862005</td>\n",
       "      <td>100000.0</td>\n",
       "    </tr>\n",
       "    <tr>\n",
       "      <th>Credit Card Debt</th>\n",
       "      <td>500.0</td>\n",
       "      <td>9607.645049</td>\n",
       "      <td>3489.187973</td>\n",
       "      <td>100.0</td>\n",
       "      <td>7397.515792</td>\n",
       "      <td>9655.035568</td>\n",
       "      <td>11798.867487</td>\n",
       "      <td>20000.0</td>\n",
       "    </tr>\n",
       "    <tr>\n",
       "      <th>Net Worth</th>\n",
       "      <td>500.0</td>\n",
       "      <td>431475.713625</td>\n",
       "      <td>173536.756340</td>\n",
       "      <td>20000.0</td>\n",
       "      <td>299824.195900</td>\n",
       "      <td>426750.120650</td>\n",
       "      <td>557324.478725</td>\n",
       "      <td>1000000.0</td>\n",
       "    </tr>\n",
       "    <tr>\n",
       "      <th>Car Purchase Amount</th>\n",
       "      <td>500.0</td>\n",
       "      <td>44209.799218</td>\n",
       "      <td>10773.178744</td>\n",
       "      <td>9000.0</td>\n",
       "      <td>37629.896040</td>\n",
       "      <td>43997.783390</td>\n",
       "      <td>51254.709517</td>\n",
       "      <td>80000.0</td>\n",
       "    </tr>\n",
       "  </tbody>\n",
       "</table>\n",
       "</div>"
      ],
      "text/plain": [
       "                     count           mean            std      min  \\\n",
       "Gender               500.0       0.506000       0.500465      0.0   \n",
       "Age                  500.0      46.224000       7.990339     20.0   \n",
       "Annual Salary        500.0   62127.239608   11703.378228  20000.0   \n",
       "Credit Card Debt     500.0    9607.645049    3489.187973    100.0   \n",
       "Net Worth            500.0  431475.713625  173536.756340  20000.0   \n",
       "Car Purchase Amount  500.0   44209.799218   10773.178744   9000.0   \n",
       "\n",
       "                               25%            50%            75%        max  \n",
       "Gender                    0.000000       1.000000       1.000000        1.0  \n",
       "Age                      41.000000      46.000000      52.000000       70.0  \n",
       "Annual Salary         54391.977195   62915.497035   70117.862005   100000.0  \n",
       "Credit Card Debt       7397.515792    9655.035568   11798.867487    20000.0  \n",
       "Net Worth            299824.195900  426750.120650  557324.478725  1000000.0  \n",
       "Car Purchase Amount   37629.896040   43997.783390   51254.709517    80000.0  "
      ]
     },
     "execution_count": 32,
     "metadata": {},
     "output_type": "execute_result"
    }
   ],
   "source": [
    "df.describe().T"
   ]
  },
  {
   "cell_type": "code",
   "execution_count": 33,
   "id": "279a7506",
   "metadata": {},
   "outputs": [
    {
     "data": {
      "text/html": [
       "<div>\n",
       "<style scoped>\n",
       "    .dataframe tbody tr th:only-of-type {\n",
       "        vertical-align: middle;\n",
       "    }\n",
       "\n",
       "    .dataframe tbody tr th {\n",
       "        vertical-align: top;\n",
       "    }\n",
       "\n",
       "    .dataframe thead th {\n",
       "        text-align: right;\n",
       "    }\n",
       "</style>\n",
       "<table border=\"1\" class=\"dataframe\">\n",
       "  <thead>\n",
       "    <tr style=\"text-align: right;\">\n",
       "      <th></th>\n",
       "      <th>count</th>\n",
       "      <th>unique</th>\n",
       "      <th>top</th>\n",
       "      <th>freq</th>\n",
       "    </tr>\n",
       "  </thead>\n",
       "  <tbody>\n",
       "    <tr>\n",
       "      <th>Customer Name</th>\n",
       "      <td>500</td>\n",
       "      <td>498</td>\n",
       "      <td>Seth</td>\n",
       "      <td>2</td>\n",
       "    </tr>\n",
       "    <tr>\n",
       "      <th>Customer e-mail</th>\n",
       "      <td>500</td>\n",
       "      <td>500</td>\n",
       "      <td>cubilia.Curae.Phasellus@quisaccumsanconvallis.edu</td>\n",
       "      <td>1</td>\n",
       "    </tr>\n",
       "    <tr>\n",
       "      <th>Country</th>\n",
       "      <td>500</td>\n",
       "      <td>1</td>\n",
       "      <td>USA</td>\n",
       "      <td>500</td>\n",
       "    </tr>\n",
       "  </tbody>\n",
       "</table>\n",
       "</div>"
      ],
      "text/plain": [
       "                count unique  \\\n",
       "Customer Name     500    498   \n",
       "Customer e-mail   500    500   \n",
       "Country           500      1   \n",
       "\n",
       "                                                               top freq  \n",
       "Customer Name                                                 Seth    2  \n",
       "Customer e-mail  cubilia.Curae.Phasellus@quisaccumsanconvallis.edu    1  \n",
       "Country                                                        USA  500  "
      ]
     },
     "execution_count": 33,
     "metadata": {},
     "output_type": "execute_result"
    }
   ],
   "source": [
    "df.describe(exclude=('float','int')).T"
   ]
  },
  {
   "cell_type": "markdown",
   "id": "a13a3fe5",
   "metadata": {},
   "source": [
    "### 3.5. Boxplot e Outliers das Variáveis Numéricas"
   ]
  },
  {
   "cell_type": "code",
   "execution_count": 80,
   "id": "97b18673",
   "metadata": {},
   "outputs": [
    {
     "data": {
      "image/png": "[encoded data removed]",
      "text/plain": [
       "<Figure size 1200x1500 with 6 Axes>"
      ]
     },
     "metadata": {},
     "output_type": "display_data"
    }
   ],
   "source": [
    "# Seleciona os nomes das colunas numéricas (float apenas)\n",
    "colunas_numericas = df.select_dtypes(include=['number']).columns.tolist()\n",
    "\n",
    "# Verifica se há colunas numéricas\n",
    "if not colunas_numericas:\n",
    "    print('Nenhuma variável numérica encontrada no DataFrame.')\n",
    "else:\n",
    "    # Número de boxplots a serem gerados\n",
    "    n_plots = len(colunas_numericas)\n",
    "\n",
    "    # Cria a figura com subplots verticais\n",
    "    fig, axs = plt.subplots(n_plots, 1, figsize=(12, 2.5 * n_plots), \n",
    "                            gridspec_kw={'hspace': 0.6})\n",
    "\n",
    "    # Garante que axs seja sempre uma lista (mesmo com 1 gráfico)\n",
    "    if n_plots == 1:\n",
    "        axs = [axs]\n",
    "\n",
    "    # Loop pelas colunas para criar os boxplots\n",
    "    for ax, col in zip(axs, colunas_numericas):\n",
    "        sns.boxplot(x=df[col], ax=ax, notch=True, color='#ea8c87', orient='h')\n",
    "        ax.set_title(f'{col}', loc='left', fontsize=11, pad=8, fontweight='bold')\n",
    "        ax.set(xlabel='', ylabel='')\n",
    "        ax.tick_params(labelsize=9)\n",
    "        ax.ticklabel_format(style='plain', axis='x')\n",
    "\n",
    "    # Ajusta o layout e adiciona título geral\n",
    "    fig.suptitle('Boxplots das Variáveis Numéricas', fontsize=14, fontweight='bold', y=0.93)\n",
    "    plt.tight_layout(rect=[0, 0, 1, 0.97])  # evita sobreposição com título\n",
    "    plt.show()\n"
   ]
  },
  {
   "cell_type": "code",
   "execution_count": 35,
   "id": "691b8602",
   "metadata": {},
   "outputs": [
    {
     "name": "stdout",
     "output_type": "stream",
     "text": [
      "\n",
      "Resumo dos Outliers por Variável (ordenado por maior %)\n"
     ]
    },
    {
     "data": {
      "text/html": [
       "<div>\n",
       "<style scoped>\n",
       "    .dataframe tbody tr th:only-of-type {\n",
       "        vertical-align: middle;\n",
       "    }\n",
       "\n",
       "    .dataframe tbody tr th {\n",
       "        vertical-align: top;\n",
       "    }\n",
       "\n",
       "    .dataframe thead th {\n",
       "        text-align: right;\n",
       "    }\n",
       "</style>\n",
       "<table border=\"1\" class=\"dataframe\">\n",
       "  <thead>\n",
       "    <tr style=\"text-align: right;\">\n",
       "      <th></th>\n",
       "      <th>Variável</th>\n",
       "      <th>IIQ</th>\n",
       "      <th>Limite Inferior</th>\n",
       "      <th>Limite Superior</th>\n",
       "      <th>Outliers Abaixo</th>\n",
       "      <th>Outliers Acima</th>\n",
       "      <th>Total Outliers</th>\n",
       "      <th>% Outliers</th>\n",
       "    </tr>\n",
       "  </thead>\n",
       "  <tbody>\n",
       "    <tr>\n",
       "      <th>0</th>\n",
       "      <td>Credit Card Debt</td>\n",
       "      <td>4401.351696</td>\n",
       "      <td>795.488248</td>\n",
       "      <td>18400.895031</td>\n",
       "      <td>4</td>\n",
       "      <td>3</td>\n",
       "      <td>7</td>\n",
       "      <td>1.4</td>\n",
       "    </tr>\n",
       "    <tr>\n",
       "      <th>1</th>\n",
       "      <td>Car Purchase Amount</td>\n",
       "      <td>13624.813477</td>\n",
       "      <td>17192.675824</td>\n",
       "      <td>71691.929734</td>\n",
       "      <td>4</td>\n",
       "      <td>1</td>\n",
       "      <td>5</td>\n",
       "      <td>1.0</td>\n",
       "    </tr>\n",
       "    <tr>\n",
       "      <th>2</th>\n",
       "      <td>Age</td>\n",
       "      <td>11.000000</td>\n",
       "      <td>24.500000</td>\n",
       "      <td>68.500000</td>\n",
       "      <td>2</td>\n",
       "      <td>2</td>\n",
       "      <td>4</td>\n",
       "      <td>0.8</td>\n",
       "    </tr>\n",
       "    <tr>\n",
       "      <th>3</th>\n",
       "      <td>Annual Salary</td>\n",
       "      <td>15725.884810</td>\n",
       "      <td>30803.149980</td>\n",
       "      <td>93706.689220</td>\n",
       "      <td>1</td>\n",
       "      <td>1</td>\n",
       "      <td>2</td>\n",
       "      <td>0.4</td>\n",
       "    </tr>\n",
       "    <tr>\n",
       "      <th>4</th>\n",
       "      <td>Net Worth</td>\n",
       "      <td>257500.282825</td>\n",
       "      <td>-86426.228337</td>\n",
       "      <td>943574.902962</td>\n",
       "      <td>0</td>\n",
       "      <td>1</td>\n",
       "      <td>1</td>\n",
       "      <td>0.2</td>\n",
       "    </tr>\n",
       "    <tr>\n",
       "      <th>5</th>\n",
       "      <td>Gender</td>\n",
       "      <td>1.000000</td>\n",
       "      <td>-1.500000</td>\n",
       "      <td>2.500000</td>\n",
       "      <td>0</td>\n",
       "      <td>0</td>\n",
       "      <td>0</td>\n",
       "      <td>0.0</td>\n",
       "    </tr>\n",
       "  </tbody>\n",
       "</table>\n",
       "</div>"
      ],
      "text/plain": [
       "              Variável            IIQ  Limite Inferior  Limite Superior  \\\n",
       "0     Credit Card Debt    4401.351696       795.488248     18400.895031   \n",
       "1  Car Purchase Amount   13624.813477     17192.675824     71691.929734   \n",
       "2                  Age      11.000000        24.500000        68.500000   \n",
       "3        Annual Salary   15725.884810     30803.149980     93706.689220   \n",
       "4            Net Worth  257500.282825    -86426.228337    943574.902962   \n",
       "5               Gender       1.000000        -1.500000         2.500000   \n",
       "\n",
       "   Outliers Abaixo  Outliers Acima  Total Outliers  % Outliers  \n",
       "0                4               3               7         1.4  \n",
       "1                4               1               5         1.0  \n",
       "2                2               2               4         0.8  \n",
       "3                1               1               2         0.4  \n",
       "4                0               1               1         0.2  \n",
       "5                0               0               0         0.0  "
      ]
     },
     "metadata": {},
     "output_type": "display_data"
    }
   ],
   "source": [
    "# Seleciona as variáveis numéricas\n",
    "colunas_numericas = df.select_dtypes(include=['number'])\n",
    "\n",
    "# Lista para armazenar as informações de outliers por coluna\n",
    "resultados_outliers = []\n",
    "\n",
    "for col in colunas_numericas:\n",
    "    # Calcula quartis e intervalo interquartil (IIQ)\n",
    "    Q1 = df[col].quantile(.25)\n",
    "    Q3 = df[col].quantile(.75)\n",
    "    IIQ = Q3 - Q1\n",
    "\n",
    "    # Define limites inferior e superior para outliers\n",
    "    limite_inferior = Q1 - 1.5 * IIQ\n",
    "    limite_superior = Q3 + 1.5 * IIQ\n",
    "\n",
    "    # Contagem de outliers abaixo e acima dos limites\n",
    "    outliers_abaixo = (df[col] < limite_inferior).sum()\n",
    "    outliers_acima = (df[col] > limite_superior).sum()\n",
    "    \n",
    "    # Calcula a quantidade total de outliers fora dos limites\n",
    "    total_outliers = outliers_acima + outliers_abaixo\n",
    "    \n",
    "    # Calcula a porcentagem total de outliers fora dos limites\n",
    "    total_outliers_perc = total_outliers / df.shape[0]\n",
    "    \n",
    "    # Armazena resultados em um dicionário\n",
    "    resultados_outliers.append({\n",
    "        'Variável': col,\n",
    "        'IIQ': IIQ,\n",
    "        'Limite Inferior': limite_inferior,\n",
    "        'Limite Superior': limite_superior,\n",
    "        'Outliers Abaixo': outliers_abaixo,\n",
    "        'Outliers Acima': outliers_acima,\n",
    "        'Total Outliers': total_outliers,\n",
    "        '% Outliers': round(total_outliers_perc * 100, 3)\n",
    "    })\n",
    "    \n",
    "# Converte a lista de dicionários em um DataFrame\n",
    "df_outliers = pd.DataFrame(resultados_outliers) \n",
    "\n",
    "# Ordena o DataFrame pela % de outliers em ordem decrescente\n",
    "df_outliers.sort_values(by='% Outliers', ascending=False, inplace=True)  \n",
    "\n",
    "# Exibe o DataFrame com os resultados\n",
    "print('\\nResumo dos Outliers por Variável (ordenado por maior %)')\n",
    "display(df_outliers.reset_index(drop=True))"
   ]
  },
  {
   "cell_type": "markdown",
   "id": "1312b962",
   "metadata": {},
   "source": [
    "### 3.6. Distribuição da Variável 'Car Purchase Amount'"
   ]
  },
  {
   "cell_type": "code",
   "execution_count": 90,
   "id": "dff9e332",
   "metadata": {},
   "outputs": [
    {
     "data": {
      "image/png": "[encoded data removed]",
      "text/plain": [
       "<Figure size 1000x600 with 1 Axes>"
      ]
     },
     "metadata": {},
     "output_type": "display_data"
    }
   ],
   "source": [
    "# Ajuste de tamanho da figura\n",
    "plt.figure(figsize=(10, 6))\n",
    "\n",
    "# Histograma com KDE\n",
    "sns.histplot(data=df, x='Car Purchase Amount', bins=30, kde=True, color='#5d9eba', edgecolor='#ffffff')\n",
    "\n",
    "# Título e labels\n",
    "plt.title('Distribuição da Variável \\'Car Purchase Amount\\'\\n', fontsize=14, fontweight='bold')\n",
    "plt.xlabel('\\nCar Purchase Amount', fontsize=12, fontweight='bold')\n",
    "plt.ylabel('Frequência\\n', fontsize=12, fontweight='bold')\n",
    "\n",
    "# Exibe o gráfico\n",
    "plt.tight_layout()\n",
    "plt.show()\n"
   ]
  },
  {
   "cell_type": "code",
   "execution_count": 37,
   "id": "d091e3da",
   "metadata": {},
   "outputs": [],
   "source": [
    "def testar_normalidade(dataframe, coluna):\n",
    "    '''\n",
    "    Realiza testes estatísticos de normalidade (Shapiro-Wilk e D’Agostino-Pearson)\n",
    "    para a variável numérica especificada.\n",
    "\n",
    "    :param dataframe: DataFrame\n",
    "        DataFrame contendo os dados a serem analisados.\n",
    "    :param coluna: str\n",
    "        Nome da coluna numérica a ser testada.\n",
    "    :return: None\n",
    "        Exibe os resultados dos testes e interpretação.\n",
    "    '''\n",
    "\n",
    "    # Remove valores ausentes da amostra\n",
    "    amostra = dataframe[coluna].dropna()\n",
    "\n",
    "    # Teste de Shapiro-Wilk\n",
    "    shapiro_stat, shapiro_p = stats.shapiro(amostra)\n",
    "\n",
    "    # Teste de D’Agostino-Pearson\n",
    "    dagostino_stat, dagostino_p = stats.normaltest(amostra)\n",
    "\n",
    "    # Exibição dos resultados\n",
    "    print(f'\\n📌 Teste de Normalidade — {coluna}\\n')\n",
    "    print(f'- Shapiro-Wilk:       Estatística = {shapiro_stat:.4f} | p-valor = {shapiro_p:.4f}')\n",
    "    print(f'- D\\'Agostino-Pearson: Estatística = {dagostino_stat:.4f} | p-valor = {dagostino_p:.4f}\\n')\n",
    "\n",
    "    # Interpretação\n",
    "    if shapiro_p > 0.05 and dagostino_p > 0.05:\n",
    "        print('✅ A variável apresenta distribuição normal (não rejeita H₀ nos dois testes).')\n",
    "    else:\n",
    "        print('⚠️ A variável não apresenta distribuição normal (rejeita H₀ em pelo menos um teste).')\n"
   ]
  },
  {
   "cell_type": "code",
   "execution_count": 38,
   "id": "c92c89b6",
   "metadata": {},
   "outputs": [
    {
     "name": "stdout",
     "output_type": "stream",
     "text": [
      "\n",
      "📌 Teste de Normalidade — Car Purchase Amount\n",
      "\n",
      "- Shapiro-Wilk:       Estatística = 0.9972 | p-valor = 0.5566\n",
      "- D'Agostino-Pearson: Estatística = 1.2039 | p-valor = 0.5477\n",
      "\n",
      "✅ A variável apresenta distribuição normal (não rejeita H₀ nos dois testes).\n"
     ]
    }
   ],
   "source": [
    "testar_normalidade(df, 'Car Purchase Amount')"
   ]
  },
  {
   "cell_type": "markdown",
   "id": "979a3f77",
   "metadata": {},
   "source": [
    "## 4. Análise exploratória dos dados"
   ]
  },
  {
   "cell_type": "markdown",
   "id": "aa177072",
   "metadata": {},
   "source": [
    "### 4.1. Qual a distribuição da idade dos clientes?"
   ]
  },
  {
   "cell_type": "code",
   "execution_count": 41,
   "id": "08626460",
   "metadata": {},
   "outputs": [],
   "source": [
    "# Agrupar idades numéricas em faixas etárias\n",
    "\n",
    "# Faixas etárias (limites)\n",
    "bins = [0, 24, 34, 44, 54, 64, 74, 84, 94, 150]\n",
    "\n",
    "# Agrupar idades numéricas em faixas etárias\n",
    "labels = [\n",
    "    'menos de 25 anos',\n",
    "    '25 a 34 anos',\n",
    "    '35 a 44 anos',\n",
    "    '45 a 54 anos',\n",
    "    '55 a 64 anos',\n",
    "    '65 a 74 anos',\n",
    "    '75 a 84 anos',\n",
    "    '85 a 94 anos',\n",
    "    'mais de 95 anos'\n",
    "]\n",
    "\n",
    "# Criando a coluna de faixa etária\n",
    "df['AGE_GROUP'] = pd.cut(df['Age'], bins=bins, labels=labels, right=True, include_lowest=True)"
   ]
  },
  {
   "cell_type": "code",
   "execution_count": null,
   "id": "3142d912",
   "metadata": {},
   "outputs": [
    {
     "data": {
      "image/png": "[encoded data removed]",
      "text/plain": [
       "<Figure size 1000x600 with 1 Axes>"
      ]
     },
     "metadata": {},
     "output_type": "display_data"
    }
   ],
   "source": [
    "# Conta a frequência de cada faixa etária\n",
    "age_group_counts = df['AGE_GROUP'].value_counts().sort_index()\n",
    "\n",
    "# Calcula o total para o percentual\n",
    "total = age_group_counts.sum()\n",
    "\n",
    "# Usa textwrap para quebrar automaticamente os rótulos longos do eixo x\n",
    "x_labels = [textwrap.fill(label, width=10) for label in age_group_counts.index.astype(str)]\n",
    "\n",
    "# Ajuste do tamanho da figura\n",
    "plt.figure(figsize=(10, 6))\n",
    "\n",
    "# Criação do barplot\n",
    "ax = sns.barplot(\n",
    "    x=x_labels,\n",
    "    y=age_group_counts.values,\n",
    "    palette=['#5cbc64'],\n",
    "    edgecolor='#ffffff'\n",
    ")\n",
    "\n",
    "# Título e labels\n",
    "plt.title('Distribuição da Idade por Faixa Etária\\n', fontsize=14, fontweight='bold')\n",
    "plt.xlabel('\\nFaixa Etária', fontsize=12, fontweight='bold')\n",
    "plt.ylabel('Frequência\\n', fontsize=12, fontweight='bold')\n",
    "\n",
    "# Adicionando os percentuais sobre as barras\n",
    "for i, count in enumerate(age_group_counts.values):\n",
    "    percentage = (count / total) * 100\n",
    "    ax.text(i, count + total * 0.01, f'{percentage:.1f}%', \n",
    "            ha='center', va='bottom', fontsize=10, fontweight='bold')\n",
    "\n",
    "# Layout final\n",
    "plt.tight_layout()\n",
    "plt.show()\n"
   ]
  },
  {
   "cell_type": "markdown",
   "id": "488617f1",
   "metadata": {},
   "source": [
    "### 4.2. O gênero dos clientes está balanceado?"
   ]
  },
  {
   "cell_type": "code",
   "execution_count": 82,
   "id": "8b33ff7b",
   "metadata": {},
   "outputs": [
    {
     "data": {
      "image/png": "[encoded data removed]",
      "text/plain": [
       "<Figure size 1000x600 with 1 Axes>"
      ]
     },
     "metadata": {},
     "output_type": "display_data"
    }
   ],
   "source": [
    "# Conta a frequência de cada gênero\n",
    "gender_counts = df['Gender'].value_counts().sort_index()\n",
    "\n",
    "# Calcula o total para o percentual\n",
    "total = gender_counts.sum()\n",
    "\n",
    "# Ajuste do tamanho da figura\n",
    "plt.figure(figsize=(10, 6))\n",
    "\n",
    "# Criação do barplot\n",
    "ax = sns.barplot(\n",
    "    x=gender_counts.index,\n",
    "    y=gender_counts.values,\n",
    "    palette=['#5d9eba'],\n",
    "    edgecolor='#ffffff'\n",
    ")\n",
    "\n",
    "# Título e labels\n",
    "plt.title('Distribuição de Gênero\\n', fontsize=14, fontweight='bold')\n",
    "plt.xlabel('\\nGênero', fontsize=12, fontweight='bold')\n",
    "plt.ylabel('Frequência\\n', fontsize=12, fontweight='bold')\n",
    "\n",
    "# Adicionando os percentuais sobre as barras\n",
    "for i, count in enumerate(gender_counts.values):\n",
    "    percentage = (count / total) * 100\n",
    "    ax.text(i, count + total * 0.01, f'{percentage:.1f}%', \n",
    "            ha='center', va='bottom', fontsize=10, fontweight='bold')\n",
    "\n",
    "# Layout final\n",
    "plt.tight_layout()\n",
    "plt.show()"
   ]
  },
  {
   "cell_type": "markdown",
   "id": "041c2b09",
   "metadata": {},
   "source": [
    "### 4.3. Há diferença de idade média entre gêneros?"
   ]
  },
  {
   "cell_type": "code",
   "execution_count": 87,
   "id": "9fca6f20",
   "metadata": {},
   "outputs": [
    {
     "data": {
      "image/png": "[encoded data removed]",
      "text/plain": [
       "<Figure size 800x600 with 1 Axes>"
      ]
     },
     "metadata": {},
     "output_type": "display_data"
    }
   ],
   "source": [
    "# Ajuste do tamanho da figura\n",
    "plt.figure(figsize=(8, 6))\n",
    "\n",
    "# Criação do boxplot\n",
    "sns.boxplot(data=df, x='Gender', y='Age', notch=True, palette=['#5d9eba'])\n",
    "\n",
    "# Título e labels\n",
    "plt.title('Distribuição da Idade por Gênero', fontsize=14, fontweight='bold')\n",
    "plt.xlabel('\\nGênero', fontsize=12, fontweight='bold')\n",
    "plt.ylabel('Idade\\n', fontsize=12, fontweight='bold')\n",
    "\n",
    "# Layout final\n",
    "plt.tight_layout()\n",
    "plt.show()\n"
   ]
  },
  {
   "cell_type": "code",
   "execution_count": null,
   "id": "7075aeb5",
   "metadata": {},
   "outputs": [],
   "source": []
  }
 ],
 "metadata": {
  "kernelspec": {
   "display_name": "venv",
   "language": "python",
   "name": "python3"
  },
  "language_info": {
   "codemirror_mode": {
    "name": "ipython",
    "version": 3
   },
   "file_extension": ".py",
   "mimetype": "text/x-python",
   "name": "python",
   "nbconvert_exporter": "python",
   "pygments_lexer": "ipython3",
   "version": "3.12.10"
  }
 },
 "nbformat": 4,
 "nbformat_minor": 5
}
